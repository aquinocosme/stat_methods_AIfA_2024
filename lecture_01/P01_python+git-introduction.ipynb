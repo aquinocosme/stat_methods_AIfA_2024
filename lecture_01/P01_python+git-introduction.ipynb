{
 "cells": [
  {
   "cell_type": "markdown",
   "metadata": {},
   "source": [
    "# P01: A short introduction to $\\texttt{python}$ & $\\texttt{git}$"
   ]
  },
  {
   "metadata": {},
   "cell_type": "markdown",
   "source": ""
  },
  {
   "cell_type": "markdown",
   "metadata": {},
   "source": [
    "## Problem 1: Randomly sampling points on the sphere"
   ]
  },
  {
   "cell_type": "markdown",
   "metadata": {},
   "source": [
    "In this problem, we will learn how to generate points that uniformly sample the surface of a sphere.\n",
    "\n",
    "First, go to the class' `jupyterhub` server and create a new notebook. In your notebook, do the following:\n",
    " \n",
    "- Write a piece of code that will sample 10,000 points uniformly distributed on the surface of a sphere. Your code should return the points' angular coordinates $\\theta, \\phi$ (you can assume a unit sphere wlog).  \n",
    "- Write a piece of code that will project the points into Carthesian coordinates ($x, y, z$), again assuming unit radius.  \n",
    "- Make three 2D scatter plots of the points after projecting along the $x, y$ and $z$ axis. \n",
    "- Plot a 1D histogram of the $x, y$ and $z$ distributions.\n",
    "- Interpret your results. In particular, discuss if your points are uniformly distributed. Why? Why not?"
   ]
  },
  {
   "metadata": {
    "ExecuteTime": {
     "end_time": "2024-10-14T16:59:17.188750Z",
     "start_time": "2024-10-14T16:59:17.173191Z"
    }
   },
   "cell_type": "code",
   "source": "import numpy as np",
   "outputs": [],
   "execution_count": 2
  },
  {
   "metadata": {
    "ExecuteTime": {
     "end_time": "2024-10-14T17:03:45.580199Z",
     "start_time": "2024-10-14T17:03:45.540079Z"
    }
   },
   "cell_type": "code",
   "source": "#write sample 10000 points on a sphere\n",
   "outputs": [
    {
     "ename": "TypeError",
     "evalue": "'module' object is not callable",
     "output_type": "error",
     "traceback": [
      "\u001B[1;31m---------------------------------------------------------------------------\u001B[0m",
      "\u001B[1;31mTypeError\u001B[0m                                 Traceback (most recent call last)",
      "Input \u001B[1;32mIn [6]\u001B[0m, in \u001B[0;36m<module>\u001B[1;34m\u001B[0m\n\u001B[0;32m      1\u001B[0m \u001B[38;5;66;03m#write sample 10000 points on a sphere\u001B[39;00m\n\u001B[1;32m----> 2\u001B[0m \u001B[43mnp\u001B[49m\u001B[38;5;241;43m.\u001B[39;49m\u001B[43mrandom\u001B[49m\u001B[43m(\u001B[49m\u001B[38;5;241;43m10\u001B[39;49m\u001B[43m)\u001B[49m\n",
      "\u001B[1;31mTypeError\u001B[0m: 'module' object is not callable"
     ]
    }
   ],
   "execution_count": 6
  },
  {
   "cell_type": "markdown",
   "metadata": {},
   "source": [
    "## Problem 2: Randomly sampling points on the sphere with $\\texttt{python}$ scripts"
   ]
  },
  {
   "cell_type": "markdown",
   "metadata": {},
   "source": [
    "In an IDE (e.g. PyCharm):  \n",
    "(i) Make two python files (ending in .py):  \n",
    "- One file will contain functions for data manipulation.  \n",
    "- One file will contain functions for plotting.  \n",
    "\n",
    "(ii) In the file for doing the calculations, create two functions:  \n",
    "- A function that will randomly sample from the surface of a sphere. The input should be the size of the sample. The outputs should be the spherical coordinates $\\theta$ and $\\phi$ of all the points.  \n",
    "- A function for projecting a set of points in spherical coordinates to Cartesian coordinates. Inputs should be the spherical coordinates of the points and an optional radius parameter (default is set to 1). "
   ]
  },
  {
   "cell_type": "code",
   "metadata": {
    "ExecuteTime": {
     "end_time": "2024-10-14T16:59:19.858717Z",
     "start_time": "2024-10-14T16:59:19.834386Z"
    }
   },
   "source": [
    "import numpy as np\n",
    "\n",
    "def sample_sphere(n):\n",
    "    \"\"\"\n",
    "    Docstring goes here...\n",
    "    \"\"\"\n",
    "    return theta, phi\n",
    "\n",
    "def get_cartesian_coords(phi, theta, r = 1):\n",
    "    \"\"\"\n",
    "    Docstring goes here...\n",
    "    \"\"\"\n",
    "    return x, y, z"
   ],
   "outputs": [],
   "execution_count": 3
  },
  {
   "cell_type": "markdown",
   "metadata": {},
   "source": [
    "(iii) In the file for plotting, create two functions:\n",
    "- A function for making the scatter plots.  \n",
    "- A function for making the histogram plots."
   ]
  },
  {
   "cell_type": "code",
   "metadata": {
    "ExecuteTime": {
     "end_time": "2024-10-14T16:59:40.783659Z",
     "start_time": "2024-10-14T16:59:23.983063Z"
    }
   },
   "source": [
    "import matplotlib.pyplot as plt \n",
    "import numpy as np\n",
    "\n",
    "def plot_scatter():\n",
    "    \"\"\"\n",
    "    Docstring goes here...\n",
    "    \"\"\"\n",
    "    \n",
    "def plot_histogram():\n",
    "    \"\"\"\n",
    "    Docstring goes here...\n",
    "    \"\"\""
   ],
   "outputs": [],
   "execution_count": 4
  },
  {
   "cell_type": "markdown",
   "metadata": {},
   "source": [
    "(iv) In a `jupyter` notebook :\n",
    "- Import your functions.\n",
    "- Repeat the operations from problem 1, this time using your functions."
   ]
  },
  {
   "metadata": {},
   "cell_type": "code",
   "outputs": [],
   "execution_count": null,
   "source": ""
  },
  {
   "metadata": {},
   "cell_type": "markdown",
   "source": ""
  }
 ],
 "metadata": {
  "kernelspec": {
   "display_name": "Python 3 (ipykernel)",
   "language": "python",
   "name": "python3"
  },
  "language_info": {
   "codemirror_mode": {
    "name": "ipython",
    "version": 3
   },
   "file_extension": ".py",
   "mimetype": "text/x-python",
   "name": "python",
   "nbconvert_exporter": "python",
   "pygments_lexer": "ipython3",
   "version": "3.11.4"
  }
 },
 "nbformat": 4,
 "nbformat_minor": 2
}
